{
 "cells": [
  {
   "cell_type": "markdown",
   "metadata": {},
   "source": [
    "# Fleabag Gendered Dialogue Analysis\n",
    "Exploratory analysis of gendered language in the TV series *Fleabag*."
   ]
  },
  {
   "cell_type": "code",
   "execution_count": null,
   "metadata": {},
   "outputs": [],
   "source": [
    "import pandas as pd\n",
    "import matplotlib.pyplot as plt\n",
    "import seaborn as sns\n",
    "\n",
    "# 读取数据\n",
    "df = pd.read_csv('../data/fleabag_s01e01_clean.csv')\n",
    "df.head()"
   ]
  },
  {
   "cell_type": "code",
   "execution_count": null,
   "metadata": {},
   "outputs": [],
   "source": [
    "# 角色台词数量统计\n",
    "plt.figure(figsize=(8,5))\n",
    "sns.countplot(data=df, x='角色名', order=df['角色名'].value_counts().index)\n",
    "plt.title('Dialogue Count by Character')\n",
    "plt.xticks(rotation=45)\n",
    "plt.show()"
   ]
  },
  {
   "cell_type": "code",
   "execution_count": null,
   "metadata": {},
   "outputs": [],
   "source": [
    "# 情绪极性分布\n",
    "plt.figure(figsize=(8,5))\n",
    "sns.boxplot(data=df, x='角色名', y='情绪极性')\n",
    "plt.title('Sentiment Polarity by Character')\n",
    "plt.xticks(rotation=45)\n",
    "plt.show()"
   ]
  }
 ],
 "metadata": {
  "kernelspec": {
   "display_name": "Python 3",
   "language": "python",
   "name": "python3"
  },
  "language_info": {
   "name": "python",
   "version": "3.8"
  }
 },
 "nbformat": 4,
 "nbformat_minor": 5
}
